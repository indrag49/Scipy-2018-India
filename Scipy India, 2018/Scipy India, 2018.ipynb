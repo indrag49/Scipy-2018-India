{
 "cells": [
  {
   "cell_type": "markdown",
   "metadata": {},
   "source": [
    "### Quantum Simu"
   ]
  },
  {
   "cell_type": "code",
   "execution_count": 48,
   "metadata": {},
   "outputs": [],
   "source": [
    "import numpy as np\n",
    "import pandas as pd\n",
    "import pylab\n",
    "import random\n",
    "\n",
    "c=np.concatenate\n",
    "o=np.outer\n",
    "\n",
    "## Initialise the 1-Qubit system: {|0>, |1>}\n",
    "Q0 = np.array([1., 0.])\n",
    "Q1 = np.array([0., 1.])\n",
    "\n",
    "## Initialise the 2-Qubit system: {|00>, |01>, |10>, |11>}\n",
    "Q00 = c(o(Q0, Q0))\n",
    "Q01 = c(o(Q0, Q1))\n",
    "Q10 = c(o(Q1, Q0))\n",
    "Q11 = c(o(Q1, Q1))\n",
    "\n",
    "## 3-Qubit system: {|000>, |001>, |010>, |011>, |100>, |101>, |110>, |111>}\n",
    "Q000 = c(o(Q00, Q0))\n",
    "Q001 = c(o(Q00, Q1))\n",
    "Q010 = c(o(Q01, Q0))\n",
    "Q011 = c(o(Q01, Q1))\n",
    "Q100 = c(o(Q10, Q0))\n",
    "Q101 = c(o(Q10, Q1))\n",
    "Q110 = c(o(Q11, Q0))\n",
    "Q111 = c(o(Q11, Q1))\n",
    "\n",
    "## 4-Qubit system\n",
    "Q0000 = c(o(Q000, Q0))\n",
    "Q0001 = c(o(Q000, Q1))\n",
    "Q0010 = c(o(Q001, Q0))\n",
    "Q0011 = c(o(Q001, Q1))\n",
    "Q0100 = c(o(Q010, Q0))\n",
    "Q0101 = c(o(Q010, Q1))\n",
    "Q0110 = c(o(Q011, Q0))\n",
    "Q0111 = c(o(Q011, Q1))\n",
    "Q1000 = c(o(Q100, Q0))\n",
    "Q1001 = c(o(Q100, Q1))\n",
    "Q1010 = c(o(Q101, Q0))\n",
    "Q1011 = c(o(Q101, Q1))\n",
    "Q1100 = c(o(Q110, Q0))\n",
    "Q1101 = c(o(Q110, Q1))\n",
    "Q1110 = c(o(Q111, Q0))\n",
    "Q1111 = c(o(Q111, Q1))\n",
    "\n",
    "## 5-Qubit system\n",
    "Q00000 = c(o(Q0000, Q0))\n",
    "Q00001 = c(o(Q0000, Q1))\n",
    "Q00010 = c(o(Q0001, Q0))\n",
    "Q00011 = c(o(Q0001, Q1))\n",
    "Q00100 = c(o(Q0010, Q0))\n",
    "Q00101 = c(o(Q0010, Q1))\n",
    "Q00110 = c(o(Q0011, Q0))\n",
    "Q00111 = c(o(Q0011, Q1))\n",
    "Q01000 = c(o(Q0100, Q0))\n",
    "Q01001 = c(o(Q0100, Q1))\n",
    "Q01010 = c(o(Q0101, Q0))\n",
    "Q01011 = c(o(Q0101, Q1))\n",
    "Q01100 = c(o(Q0110, Q0))\n",
    "Q01101 = c(o(Q0110, Q1))\n",
    "Q01110 = c(o(Q0111, Q0))\n",
    "Q01111 = c(o(Q0111, Q1))\n",
    "Q10000 = c(o(Q1000, Q0))\n",
    "Q10001 = c(o(Q1000, Q1))\n",
    "Q10010 = c(o(Q1001, Q0))\n",
    "Q10011 = c(o(Q1001, Q1))\n",
    "Q10100 = c(o(Q1010, Q0))\n",
    "Q10101 = c(o(Q1010, Q1))\n",
    "Q10110 = c(o(Q1011, Q0))\n",
    "Q10111 = c(o(Q1011, Q1))\n",
    "Q11000 = c(o(Q1100, Q0))\n",
    "Q11001 = c(o(Q1100, Q1))\n",
    "Q11010 = c(o(Q1101, Q0))\n",
    "Q11011 = c(o(Q1101, Q1))\n",
    "Q11100 = c(o(Q1110, Q0))\n",
    "Q11101 = c(o(Q1110, Q1))\n",
    "Q11110 = c(o(Q1111, Q0))\n",
    "Q11111 = c(o(Q1111, Q1))\n",
    "\n",
    "Dict={'0':Q0, '1':Q1, '00':Q00, '01':Q01, '10':Q10, '11':Q11, '000':Q000, '001':Q001, '010':Q010, '011':Q011, '100':Q100, '101':Q101, '110':Q110, '111':Q111, '0000':Q0000, '0001':Q0001, '0010':Q0010, '0011':Q0011, '0100':Q0100,\n",
    "'0101':Q0101,\n",
    "'0110':Q0110,\n",
    "'0111':Q0111,\n",
    "'1000':Q1000,\n",
    "'1001':Q1001,\n",
    "'1010':Q1010,\n",
    "'1011':Q1011,\n",
    "'1100':Q1100,\n",
    "'1101':Q1101,\n",
    "'1110':Q1110,\n",
    "'1111':Q1111,\n",
    "'00000':Q00000,\n",
    "'00001':Q00001,\n",
    "'00010':Q00010,\n",
    "'00011':Q00011,\n",
    "'00100':Q00100,\n",
    "'00101':Q00101,\n",
    "'00110':Q00110,\n",
    "'00111':Q00111,\n",
    "'01000':Q01000,\n",
    "'01001':Q01001,\n",
    "'01010':Q01010,\n",
    "'01011':Q01011,\n",
    "'01100':Q01100,\n",
    "'01101':Q01101,\n",
    "'01110':Q01110,\n",
    "'01111':Q01111,\n",
    "'10000':Q10000,\n",
    "'10001':Q10001,\n",
    "'10010':Q10010,\n",
    "'10011':Q10011,\n",
    "'10100':Q10100,\n",
    "'10101':Q10101,\n",
    "'10110':Q10110,\n",
    "'10111':Q10111,\n",
    "'11000':Q11000,\n",
    "'11001':Q11001,\n",
    "'11010':Q11010,\n",
    "'11011':Q11011,\n",
    "'11100':Q11100,\n",
    "'11101':Q11101,\n",
    "'11110':Q11110,\n",
    "'11111':Q11111\n",
    "}\n",
    "\n",
    "## Diagonal basis\n",
    "Q_plus=np.array([1, 1])/np.sqrt(2)\n",
    "Q_minus=np.array([1, -1])/np.sqrt(2)\n",
    "\n",
    "## Circular basis\n",
    "Q_clock=np.array([1, 1j])/np.sqrt(2)\n",
    "Q_anticlock=np.array([1, -1j])/np.sqrt(2)\n",
    "\n",
    "## Identity matrices\n",
    "I2 = np.identity(2)\n",
    "I4 = np.identity(2**2)\n",
    "I8 = np.identity(2**3)\n",
    "I16 = np.identity(2**4)\n",
    "I32 = np.identity(2**5)\n",
    "\n",
    "# Define Gate operations\n",
    "def PauliX(n): return np.array(([0., 1.], [1., 0.])).dot(n)\n",
    "def PauliY(n): return np.array(([0., -1.0j], [1.0j, 0.])).dot(n)\n",
    "def PauliZ(n): return np.array(([1., 0.], [0., -1.])).dot(n)\n",
    "\n",
    "def Dagger(n): return np.conj(n).T\n",
    "\n",
    "def Hadamard(n): return np.array(([1., 1.], [1., -1.])).dot(n)/np.sqrt(2)\n",
    "def Hadamard4(n):\n",
    "        \"\"\" This represents a 4X4 Hadamard Matrix, n is a 2-Qubit system \"\"\"\n",
    "        h=Hadamard(I2)\n",
    "        x=c([h, h], axis=1)\n",
    "        y=c([h, -h], axis=1)\n",
    "        h4=c([x, y])\n",
    "        return h4.dot(n)\n",
    "def Hadamard8(n):\n",
    "        \"\"\" This represents a 8X8 Hadamard Matrix, n is a 3-Qubit system \"\"\"\n",
    "        h4=Hadamard4(I4)\n",
    "        x=c([h4, h4], axis=1)\n",
    "        y=c([h4, -h4], axis=1)\n",
    "        h8=c([x, y])\n",
    "        return h8.dot(n)\n",
    "def Hadamard16(n):\n",
    "        \"\"\" This represents a 16X16 Hadamard Matrix, n is a 4-Qubit system \"\"\"\n",
    "        h8=Hadamard8(I8)\n",
    "        x=c([h8, h8], axis=1)\n",
    "        y=c([h8, -h8], axis=1)\n",
    "        h16=c([x, y])\n",
    "        return h16.dot(n)\n",
    "def Hadamard32(n):\n",
    "        \"\"\" This represents a 32X32 Hadamard Matrix, n is a 5-Qubit system \"\"\"\n",
    "        h16=Hadamard16(I16)\n",
    "        x=c([h16, h16], axis=1)\n",
    "        y=c([h16, -h16], axis=1)\n",
    "        h32=c([x, y])\n",
    "        return h32.dot(n)\n",
    "\n",
    "def CNOT(n):\n",
    "        \"\"\"CNOT gate on 2-Qubit system with control qubit = 0 and target qubit = 1\"\"\"\n",
    "        x=np.copy(I4)\n",
    "        t=np.copy(x[2,])\n",
    "        x[2,]=x[3,]\n",
    "        x[3,]=t\n",
    "        return x.dot(n)\n",
    "\n",
    "def CNOT2_10(n):\n",
    "        \"\"\"CNOT gate on 2-Qubit system with control qubit = 1 and target qubit = 0\"\"\"\n",
    "        H=Hadamard(I2)\n",
    "        x=CNOT(I4)\n",
    "        y=np.kron(H, H)\n",
    "        return y.dot(x).dot(y).dot(n)\n",
    "        \n",
    "def CNOT3_01(n):\n",
    "        \"\"\"CNOT gate on 3-Qubit system with control qubit = 0 and target qubit = 1\"\"\"\n",
    "        return (np.kron(CNOT(I4), I2)).dot(n)\n",
    "\n",
    "def CNOT3_02(n):\n",
    "        \"\"\"CNOT gate on 3-Qubit system with control qubit = 0 and target qubit = 2\"\"\"\n",
    "        return np.array(([1., 0., 0., 0., 0., 0., 0., 0.], [0., 1., 0., 0., 0., 0., 0., 0.], [0., 0., 1., 0., 0., 0., 0., 0.], [0., 0., 0., 1., 0., 0., 0., 0.], [0., 0., 0., 0., 0., 1., 0., 0.], [0., 0., 0., 0., 1., 0., 0., 0.], [0., 0., 0., 0., 0., 0., 0., 1.], [0., 0., 0., 0., 0., 0., 1., 0.])).dot(n)\n",
    "\n",
    "def CNOT3_10(n):\n",
    "        \"\"\"CNOT gate on 3-Qubit system with control qubit = 1 and target qubit = 0\"\"\"\n",
    "        return np.kron(CNOT2_10(I4), I2).dot(n)\n",
    "\n",
    "def CNOT3_12(n):\n",
    "        \"\"\"CNOT gate on 3-Qubit system with control qubit = 1 and target qubit = 2\"\"\"\n",
    "        return np.kron(I2, CNOT(I4)).dot(n)\n",
    "\n",
    "def CNOT3_20(n):\n",
    "        \"\"\"CNOT gate on 3-Qubit system with control qubit = 2 and target qubit = 0\"\"\"\n",
    "        return np.array(([1., 0., 0., 0., 0., 0., 0., 0.], [0., 0., 0., 0., 0., 1., 0., 0.], [0., 0., 1., 0., 0., 0., 0., 0.], [0., 0., 0., 0., 0., 0., 0., 1.], [0., 0., 0., 0., 1., 0., 0., 0.], [0., 1., 0., 0., 0., 0., 0., 0.], [0., 0., 0., 0., 0., 0., 1., 0.], [0., 0., 0., 1., 0., 0., 0., 0.])).dot(n)\n",
    "\n",
    "def CNOT3_21(n):\n",
    "        \"\"\"CNOT gate on 3-Qubit system with control qubit = 2 and target qubit = 1\"\"\"\n",
    "        return np.kron(I2, CNOT2_10(I4)).dot(n)\n",
    "\n",
    "def CNOT4_12(n): return np.kron(CNOT3_12(I8), I2)\n",
    "def CNOT5_12(n): return np.kron(CNOT4_12(I16), I2)\n",
    "\n",
    "def PauliX_4(n):\n",
    "        \"\"\" This represents the 4X4 pauliX matrix, with n as a 2-qubit system\"\"\"\n",
    "        p=PauliX(I2)\n",
    "        x=c([p, I2], axis=1)\n",
    "        y=c([I2, p], axis=1)\n",
    "        p4=c([x, y])\n",
    "        return p4.dot(n)\n",
    "def PauliY_4(n):\n",
    "        \"\"\" This represents the 4X4 pauliY matrix, with n as a 2-qubit system\"\"\"\n",
    "        p=PauliY(I2)\n",
    "        x=c([p, -1j*I2], axis=1)\n",
    "        y=c([1j*I2, p], axis=1)\n",
    "        p4=c([x, y])\n",
    "        return p4.dot(n)\n",
    "def PauliZ_4(n):\n",
    "        \"\"\" This represents the 4X4 pauliZ matrix, with n as a 2-qubit system\"\"\"\n",
    "        p=PauliZ(I2)\n",
    "        x=c([2*p, I2-I2], axis=1)\n",
    "        y=c([I2-I2, -2*p], axis=1)\n",
    "        p4=c([x, y])\n",
    "        return p4.dot(n)\n",
    "\n",
    "def cPauliY(n): return np.array(([1., 0., 0., 0.], [0., 1., 0., 0.], [0., 0., 0., -1.0j], [0., 0., 1.0j, 0.])).dot(n)\n",
    "def cPauliZ(n): return np.array(([1., 0., 0., 0.], [0., 1., 0., 0.], [0., 0., 1., 0.], [0., 0., 0., -1.])).dot(n)\n",
    "\n",
    "def Rotate(n, t): return np.array(([np.cos(t), np.sin(t)], [-np.sin(t), np.cos(t)])).dot(n)\n",
    "\n",
    "def Phase(n): return np.array(([1., 0.], [0., 1.0j])).dot(n)\n",
    "def PhaseDagger(n): return np.array(([1., 0.], [0., -1.0j])).dot(n)\n",
    "def T(n): return np.array(([1., 0.], [0., np.exp(1.0j*np.pi/4)])).dot(n)\n",
    "def TDagger(n): return np.array(([1., 0.], [0., np.exp(-1.0j*np.pi/4)])).dot(n)\n",
    "\n",
    "def R(n, Lambda): return np.array(([1., 0.], [0., exp(1j*Lambda)])).dot(n)\n",
    "\n",
    "def SWAP(n):\n",
    "        \"\"\"n is a 4X4 matrix\"\"\"\n",
    "        x=np.copy(I4)\n",
    "        t=np.copy(x[1, ])\n",
    "        x[1,]=x[2,]\n",
    "        x[2,]=t\n",
    "        return x.dot(n)\n",
    "def Toffoli(n):\n",
    "        \"\"\"n must be a 8X8 matrix\"\"\"\n",
    "        x=np.copy(I8)\n",
    "        t=np.copy(x[6,])\n",
    "        x[6,]=x[7,]\n",
    "        x[7,]=t\n",
    "        return x.dot(n)\n",
    "def Fredkin(n):\n",
    "        \"\"\"n must be a 8X8 matrix\"\"\"\n",
    "        x=np.copy(I8)\n",
    "        t=np.copy(x[5,])\n",
    "        x[5,]=x[6,]\n",
    "        x[6,]=t\n",
    "        return x.dot(n)\n",
    "def Ising(n, phi):\n",
    "        pi=np.pi\n",
    "        e=np.exp\n",
    "        return np.array(([1., 0., 0., e(1j*(phi-pi/2))], [0., 1., -1.0j, 0.], [0., -1.0j, 1., 0.], [e(1j*(-phi-pi/2)), 0., 0., 1.])).dot(n)\n",
    "\n",
    "## Preparation of the Bell States: {|Beta_00>, |Beta_01>, |Beta_10>, |Beta_11>}\n",
    "def bell(Qubit1, Qubit2):\n",
    "        \"\"\"Qubit1 and Qubit2 must be 0 or 1\"\"\"\n",
    "        h=Hadamard(Q0) if Qubit1==0 else Hadamard(Q1)        \n",
    "        x=c(o(h, Q1 if Qubit2==1 else Q0))\n",
    "        return CNOT(x)\n",
    "    \n",
    "def Walsh(n): return Hadamard(n)\n",
    "\n",
    "def Walsh4(n):\n",
    "    h=Hadamard(I2)\n",
    "    w=np.kron(h, h)\n",
    "    return w.dot(n)\n",
    "\n",
    "def Walsh8(n):\n",
    "    h=Hadamard(I2)\n",
    "    w=np.kron(np.kron(h, h), h)\n",
    "    return w.dot(n)\n",
    "\n",
    "def Walsh16(n):\n",
    "    h=Hadamard(I2)\n",
    "    w=np.kron(np.kron(np.kron(h, h), h), h)\n",
    "    return w.dot(n)\n",
    "\n",
    "def Walsh32(n):\n",
    "    h=Hadamard(I2)\n",
    "    w=np.kron(np.kron(np.kron(np.kron(h, h), h), h), h)\n",
    "    return w.dot(n)\n",
    "\n",
    "def QFT(y):\n",
    "    \"\"\" For a given state |y> the quantum Fourier transform is calculated with QFT(y) \"\"\"\n",
    "    Y=bin(y)[2:]\n",
    "    n=len(Y)\n",
    "    return sum([np.exp(2*np.pi*1j*x*y/(2**n))*Dict['0'*(n-len(bin(x)[2:]))+bin(x)[2:]] for x in range(2**n)])/np.sqrt(2**n)\n",
    "\n",
    "Beta_00=bell(0, 0)\n",
    "Beta_01=bell(0, 1)\n",
    "Beta_10=bell(1, 0)\n",
    "Beta_11=bell(1, 1)\n",
    "\n",
    "## An alternate way to prepare the bell states\n",
    "def B(Qubit):\n",
    "        H=Hadamard(I2)\n",
    "        b=CNOT(np.kron(H, I2))\n",
    "        return b.dot(Qubit)\n",
    "b00=B(Q00)\n",
    "b01=B(Q01)\n",
    "b10=B(Q10)\n",
    "b11=B(Q11)\n",
    "\n",
    "def measure(n):\n",
    "        l=len(n)\n",
    "        n=pd.DataFrame(n)\n",
    "        values=[]\n",
    "        for i in range(l): values+=[abs(n.iloc[i][0])**2, ]\n",
    "        p=pd.DataFrame(values).T\n",
    "        if l==2: p.columns=[\"0\", \"1\"]\n",
    "        elif l==2**2: p.columns=[\"00\", \"01\", \"10\", \"11\"]\n",
    "        elif l==2**3: p.columns=[\"000\",\"001\",\"010\",\"011\",\"100\",\"101\",\"110\",\"111\"]\n",
    "        elif l==2**4: p.columns=[\"0000\",\"0001\",\"0010\",\"0011\",\"0100\",\"0101\",\"0110\",\"0111\",\"1000\",\"1001\",\"1010\",\"1011\",\"1100\",\"1101\",\"1110\",\"1111\"]\n",
    "        else: p.columns=[\"00000\",\"00001\",\"00010\",\"00011\",\"00100\",\"00101\",\"00110\",\"00111\",\"01000\",\"01001\",\"01010\",\"01011\",\"01100\",\"01101\",\"01110\",\"01111\",\"10000\",\"10001\",\"10010\",\"10011\",\"10100\",\"10101\",\"10110\",\"10111\",\"11000\",\"11001\",\"11010\",\"11011\",\"11100\",\"11101\",\"11110\",\"11111\"]\n",
    "        return p\n",
    "\n",
    "def plot_measure(n):\n",
    "        n.plot.bar()\n",
    "        pylab.xlabel(\"Qubits\")\n",
    "        pylab.ylabel(\"Probabilitis\")\n",
    "        pylab.title(\"Probability Distribution\")\n",
    "        pylab.show()"
   ]
  },
  {
   "cell_type": "markdown",
   "metadata": {},
   "source": [
    "### Spin Flip- Game"
   ]
  },
  {
   "cell_type": "code",
   "execution_count": 3,
   "metadata": {},
   "outputs": [
    {
     "data": {
      "image/png": "[encoded data removed]",
      "text/plain": [
       "<Figure size 432x288 with 1 Axes>"
      ]
     },
     "metadata": {},
     "output_type": "display_data"
    }
   ],
   "source": [
    "def spin_flip1():\n",
    "    #Alice prepares the initial state\n",
    "    u=Q0\n",
    "    d=Q1\n",
    "    A=u\n",
    "    state=A\n",
    "    \n",
    "    #Bob plays his move: either sigma_x or I2\n",
    "    r=random.uniform(0, 1)\n",
    "    B=PauliX(state) if r<0.5 else I2.dot(state)\n",
    "    state=B\n",
    "    \n",
    "    #Now again Alice plays\n",
    "    r=random.uniform(0, 1)\n",
    "    A=PauliX(state) if r<0.5 else I2.dot(state)\n",
    "    state=A\n",
    "    \n",
    "    #Last move by Bob\n",
    "    r=random.uniform(0, 1)\n",
    "    B=PauliX(state) if r<0.5 else I2.dot(state)\n",
    "    state=B\n",
    "    \n",
    "    plot_measure(measure(state))\n",
    "    \n",
    "spin_flip1()"
   ]
  },
  {
   "cell_type": "code",
   "execution_count": 4,
   "metadata": {},
   "outputs": [
    {
     "data": {
      "text/plain": [
       "array([0.70710678, 0.70710678])"
      ]
     },
     "execution_count": 4,
     "metadata": {},
     "output_type": "execute_result"
    }
   ],
   "source": [
    "u=Q0\n",
    "d=Q1\n",
    "A_initial=(u+d)/np.sqrt(2)\n",
    "A_initial"
   ]
  },
  {
   "cell_type": "code",
   "execution_count": 6,
   "metadata": {},
   "outputs": [
    {
     "data": {
      "text/plain": [
       "array([0.70710678, 0.70710678])"
      ]
     },
     "execution_count": 6,
     "metadata": {},
     "output_type": "execute_result"
    }
   ],
   "source": [
    "I2.dot(A_initial)"
   ]
  },
  {
   "cell_type": "code",
   "execution_count": 7,
   "metadata": {},
   "outputs": [
    {
     "data": {
      "text/plain": [
       "array([0.70710678, 0.70710678])"
      ]
     },
     "execution_count": 7,
     "metadata": {},
     "output_type": "execute_result"
    }
   ],
   "source": [
    "PauliX(A_initial)"
   ]
  },
  {
   "cell_type": "code",
   "execution_count": 8,
   "metadata": {},
   "outputs": [
    {
     "data": {
      "image/png": "[encoded data removed]",
      "text/plain": [
       "<Figure size 432x288 with 1 Axes>"
      ]
     },
     "metadata": {},
     "output_type": "display_data"
    }
   ],
   "source": [
    "def spin_flip2():\n",
    "    #Alice prepares the initial state\n",
    "    u=Q0\n",
    "    d=Q1\n",
    "    A=(u+d)/np.sqrt(2)\n",
    "    state=A\n",
    "    \n",
    "    #Bob plays his move: either sigma_x or I2\n",
    "    r=random.uniform(0, 1)\n",
    "    B=PauliX(state) if r<0.5 else I2.dot(state)\n",
    "    state=B\n",
    "    \n",
    "    #Now again Alice plays\n",
    "    r=random.uniform(0, 1)\n",
    "    A=PauliX(state) if r<0.5 else I2.dot(state)\n",
    "    state=A\n",
    "    \n",
    "    #Last move by Bob\n",
    "    r=random.uniform(0, 1)\n",
    "    B=PauliX(state) if r<0.5 else I2.dot(state)\n",
    "    state=B\n",
    "    \n",
    "    plot_measure(measure(state))\n",
    "\n",
    "\n",
    "spin_flip2()"
   ]
  },
  {
   "cell_type": "code",
   "execution_count": 9,
   "metadata": {},
   "outputs": [
    {
     "data": {
      "text/plain": [
       "array([0.70710678, 0.70710678])"
      ]
     },
     "execution_count": 9,
     "metadata": {},
     "output_type": "execute_result"
    }
   ],
   "source": [
    "u=Q0\n",
    "d=Q1\n",
    "A=u\n",
    "Hadamard(A)"
   ]
  },
  {
   "cell_type": "code",
   "execution_count": 10,
   "metadata": {},
   "outputs": [
    {
     "data": {
      "text/plain": [
       "array([0.70710678, 0.70710678])"
      ]
     },
     "execution_count": 10,
     "metadata": {},
     "output_type": "execute_result"
    }
   ],
   "source": [
    "PauliX(Hadamard(A))"
   ]
  },
  {
   "cell_type": "code",
   "execution_count": 11,
   "metadata": {},
   "outputs": [
    {
     "data": {
      "text/plain": [
       "array([0.70710678, 0.70710678])"
      ]
     },
     "execution_count": 11,
     "metadata": {},
     "output_type": "execute_result"
    }
   ],
   "source": [
    "I2.dot(Hadamard(A))"
   ]
  },
  {
   "cell_type": "code",
   "execution_count": 12,
   "metadata": {},
   "outputs": [
    {
     "data": {
      "text/plain": [
       "array([1., 0.])"
      ]
     },
     "execution_count": 12,
     "metadata": {},
     "output_type": "execute_result"
    }
   ],
   "source": [
    "Hadamard(PauliX(Hadamard(A)))"
   ]
  },
  {
   "cell_type": "code",
   "execution_count": 13,
   "metadata": {},
   "outputs": [
    {
     "data": {
      "image/png": "[encoded data removed]",
      "text/plain": [
       "<Figure size 432x288 with 1 Axes>"
      ]
     },
     "metadata": {},
     "output_type": "display_data"
    }
   ],
   "source": [
    "def spin_flip3():\n",
    "    #Alice prepares the initial state\n",
    "    u=Q0\n",
    "    d=Q1\n",
    "    A=u\n",
    "    state=A\n",
    "    \n",
    "    #Bob plays his move: Hadamard operator\n",
    "    B=Hadamard(state)\n",
    "    state=B\n",
    "    \n",
    "    #Now again Alice plays\n",
    "    r=random.uniform(0, 1)\n",
    "    A=PauliX(state) if r<0.5 else I2.dot(state)\n",
    "    state=A\n",
    "    \n",
    "    #Last move by Bob: again Hadamard operator\n",
    "    B=Hadamard(state)\n",
    "    state=B\n",
    "    \n",
    "    plot_measure(measure(state))\n",
    "    \n",
    "spin_flip3()"
   ]
  },
  {
   "cell_type": "code",
   "execution_count": 14,
   "metadata": {},
   "outputs": [
    {
     "data": {
      "text/plain": [
       "array([ 0.70710678, -0.70710678])"
      ]
     },
     "execution_count": 14,
     "metadata": {},
     "output_type": "execute_result"
    }
   ],
   "source": [
    "u=Q0\n",
    "d=Q1\n",
    "A=d\n",
    "Hadamard(A)"
   ]
  },
  {
   "cell_type": "code",
   "execution_count": 15,
   "metadata": {},
   "outputs": [
    {
     "data": {
      "text/plain": [
       "array([-0.70710678,  0.70710678])"
      ]
     },
     "execution_count": 15,
     "metadata": {},
     "output_type": "execute_result"
    }
   ],
   "source": [
    "PauliX(Hadamard(A))"
   ]
  },
  {
   "cell_type": "code",
   "execution_count": 16,
   "metadata": {},
   "outputs": [
    {
     "data": {
      "text/plain": [
       "array([ 0.70710678, -0.70710678])"
      ]
     },
     "execution_count": 16,
     "metadata": {},
     "output_type": "execute_result"
    }
   ],
   "source": [
    "I2.dot(Hadamard(A))"
   ]
  },
  {
   "cell_type": "code",
   "execution_count": 17,
   "metadata": {},
   "outputs": [
    {
     "data": {
      "text/plain": [
       "array([ 0., -1.])"
      ]
     },
     "execution_count": 17,
     "metadata": {},
     "output_type": "execute_result"
    }
   ],
   "source": [
    "Hadamard(PauliX(Hadamard(A)))"
   ]
  },
  {
   "cell_type": "code",
   "execution_count": 18,
   "metadata": {},
   "outputs": [
    {
     "data": {
      "text/plain": [
       "array([0., 1.])"
      ]
     },
     "execution_count": 18,
     "metadata": {},
     "output_type": "execute_result"
    }
   ],
   "source": [
    "Hadamard(I2.dot(Hadamard(A)))"
   ]
  },
  {
   "cell_type": "code",
   "execution_count": 21,
   "metadata": {},
   "outputs": [
    {
     "data": {
      "image/png": "[encoded data removed]",
      "text/plain": [
       "<Figure size 432x288 with 1 Axes>"
      ]
     },
     "metadata": {},
     "output_type": "display_data"
    }
   ],
   "source": [
    "def spin_flip4():\n",
    "    #Alice prepares the initial state\n",
    "    u=Q0\n",
    "    d=Q1\n",
    "    A=d\n",
    "    state=A\n",
    "    \n",
    "    #Bob plays his move: Hadamard operator\n",
    "    B=Hadamard(state)\n",
    "    state=B\n",
    "    \n",
    "    #Now again Alice plays\n",
    "    r=random.uniform(0, 1)\n",
    "    A=PauliX(state) if r<0.5 else I2.dot(state)\n",
    "    state=A\n",
    "    \n",
    "    #Last move by Bob: again Hadamard operator\n",
    "    B=Hadamard(state)\n",
    "    state=B\n",
    "    \n",
    "    plot_measure(measure(state))\n",
    "    \n",
    "spin_flip4()"
   ]
  },
  {
   "cell_type": "code",
   "execution_count": 22,
   "metadata": {},
   "outputs": [
    {
     "data": {
      "image/png": "[encoded data removed]",
      "text/plain": [
       "<Figure size 432x288 with 1 Axes>"
      ]
     },
     "metadata": {},
     "output_type": "display_data"
    }
   ],
   "source": [
    "def spin_flip5():\n",
    "    #Alice prepares the initial state\n",
    "    u=Q0\n",
    "    d=Q1\n",
    "    A=(u+d)/np.sqrt(2)\n",
    "    state=A\n",
    "    \n",
    "    #Bob plays his move: Hadamard operator\n",
    "    B=Hadamard(state)\n",
    "    state=B\n",
    "    \n",
    "    #Now again Alice plays\n",
    "    r=random.uniform(0, 1)\n",
    "    A=PauliX(state) if r<0.5 else I2.dot(state)\n",
    "    state=A\n",
    "    \n",
    "    #Last move by Bob: again Hadamard operator\n",
    "    B=Hadamard(state)\n",
    "    state=B\n",
    "    \n",
    "    plot_measure(measure(state))\n",
    "    \n",
    "spin_flip5()"
   ]
  },
  {
   "cell_type": "markdown",
   "metadata": {},
   "source": [
    "### Quantum Prisoner's Dilemma"
   ]
  },
  {
   "cell_type": "code",
   "execution_count": 23,
   "metadata": {},
   "outputs": [
    {
     "name": "stdout",
     "output_type": "stream",
     "text": [
      "[[5 1]]\n",
      "[[0 1]]\n",
      "[[1]]\n",
      "[[1]]\n",
      "[[1]]\n",
      "[[1]]\n"
     ]
    },
    {
     "data": {
      "text/plain": [
       "(array([[1]]), array([[1]]))"
      ]
     },
     "execution_count": 23,
     "metadata": {},
     "output_type": "execute_result"
    }
   ],
   "source": [
    "alpha, beta, gamma, delta=3, 1, 0, 5\n",
    "Alice=np.array(([alpha, gamma], [delta, beta]))\n",
    "Bob=np.array(([alpha, delta], [gamma, beta]))\n",
    "\n",
    "def IDSDS(P1, P2):\n",
    "    check1, check2=0, 0\n",
    "    while True:\n",
    "        for i in range(len(P1)):\n",
    "            for j in range(len(P1)):\n",
    "                if list(P1[i, :]<P1[j, :]).count(True)==len(P1[0]):\n",
    "                    P1=np.delete(P1, (i), axis=0)\n",
    "                    P2=np.delete(P2, (i), axis=0)\n",
    "                    check1=1\n",
    "                    break\n",
    "            if check1==1: break\n",
    "        \n",
    "        if check1==0:\n",
    "            for i in range(len(P2[0])):\n",
    "                for j in range(len(P2[0])):\n",
    "                    if list(P2[:, i]<P2[:, j]).count(True)==len(P2):\n",
    "                        P2=np.delete(P2, (i), axis=1)\n",
    "                        P1=np.delete(P1, (i), axis=1)\n",
    "                        check2=1\n",
    "                        break\n",
    "                if check2==1:break\n",
    "        \n",
    "        print(P1)\n",
    "        print(P2)\n",
    "        if check1==0 and check2==0: break\n",
    "        check1, check2=0, 0\n",
    "    \n",
    "    return (P1, P2)\n",
    "\n",
    "IDSDS(Alice, Bob)"
   ]
  },
  {
   "cell_type": "code",
   "execution_count": 26,
   "metadata": {},
   "outputs": [
    {
     "data": {
      "text/plain": [
       "[('D', 'D')]"
      ]
     },
     "execution_count": 26,
     "metadata": {},
     "output_type": "execute_result"
    }
   ],
   "source": [
    "alpha, beta, gamma, delta=3, 1, 0, 5\n",
    "Alice=np.array(([alpha, gamma], [delta, beta]))\n",
    "Bob=np.array(([alpha, delta], [gamma, beta]))\n",
    "\n",
    "L1=[]\n",
    "L2=[]\n",
    "l=len(Alice)\n",
    "for i in range(l):\n",
    "    a=Alice[:, i]\n",
    "    M=max(a)\n",
    "    for j in range(l):\n",
    "        if a[j]==M: L1+=[[j, i], ]\n",
    "\n",
    "for i in range(l):\n",
    "    a=Bob[i, :]\n",
    "    M=max(a)\n",
    "    for j in range(l):\n",
    "        if a[j]==M: L2+=[[i, j], ]\n",
    "\n",
    "N=[i for i in L1 if i in L2]\n",
    "\n",
    "I1={0:'C', 1:'D'}\n",
    "I2={0:'C', 1:'D'}\n",
    "\n",
    "Nash=[(I1[i], I2[j]) for [i, j] in N]\n",
    "Nash"
   ]
  },
  {
   "cell_type": "code",
   "execution_count": 30,
   "metadata": {},
   "outputs": [],
   "source": [
    "def QPD(U_A, U_B, alpha, beta, gamma, delta):\n",
    "    sigma_x=PauliX(I2)\n",
    "    U=(np.kron(I2, I2)+1j*np.kron(sigma_x, sigma_x))/np.sqrt(2)\n",
    "    U_dag=np.conj(U.T)\n",
    "\n",
    "    initial=U.dot(Q00)\n",
    "    \n",
    "    PsiS=np.kron(U_A, U_B).dot(initial)\n",
    "    PsiF=U_dag.dot(PsiS)\n",
    "    plot_measure(measure(PsiF))\n",
    "    \n",
    "    cpsif=np.conj(PsiF.T)\n",
    "\n",
    "    def pi(alpha, beta, gamma, delta): return (alpha*np.abs(cpsif.dot(Q00))**2+\n",
    "    gamma*np.abs(cpsif.dot(Q01))**2+delta*np.abs(cpsif.dot(Q10))**2+\n",
    "    beta*np.abs(cpsif.dot(Q11))**2, alpha*np.abs(cpsif.dot(Q00))**2+\n",
    "    delta*np.abs(cpsif.dot(Q01))**2+gamma*np.abs(cpsif.dot(Q10))**2+\n",
    "    beta*np.abs(cpsif.dot(Q11))**2) \n",
    "\n",
    "    return pi(alpha, beta, gamma, delta)"
   ]
  },
  {
   "cell_type": "code",
   "execution_count": 35,
   "metadata": {},
   "outputs": [
    {
     "data": {
      "image/png": "[encoded data removed]",
      "text/plain": [
       "<Figure size 432x288 with 1 Axes>"
      ]
     },
     "metadata": {},
     "output_type": "display_data"
    },
    {
     "data": {
      "text/plain": [
       "(2.9999999999999987, 2.9999999999999987)"
      ]
     },
     "execution_count": 35,
     "metadata": {},
     "output_type": "execute_result"
    }
   ],
   "source": [
    "QPD(I2, I2, 3, 1, 0, 5)"
   ]
  },
  {
   "cell_type": "code",
   "execution_count": 36,
   "metadata": {},
   "outputs": [
    {
     "data": {
      "image/png": "[encoded data removed]",
      "text/plain": [
       "<Figure size 432x288 with 1 Axes>"
      ]
     },
     "metadata": {},
     "output_type": "display_data"
    },
    {
     "data": {
      "text/plain": [
       "(4.999999999999998, 0.0)"
      ]
     },
     "execution_count": 36,
     "metadata": {},
     "output_type": "execute_result"
    }
   ],
   "source": [
    "sigma_x=PauliX(I2)\n",
    "QPD(sigma_x, I2, 3, 1, 0, 5)"
   ]
  },
  {
   "cell_type": "code",
   "execution_count": 37,
   "metadata": {},
   "outputs": [
    {
     "data": {
      "image/png": "[encoded data removed]",
      "text/plain": [
       "<Figure size 432x288 with 1 Axes>"
      ]
     },
     "metadata": {},
     "output_type": "display_data"
    },
    {
     "data": {
      "text/plain": [
       "(0.0, 4.999999999999998)"
      ]
     },
     "execution_count": 37,
     "metadata": {},
     "output_type": "execute_result"
    }
   ],
   "source": [
    "QPD(I2, sigma_x, 3, 1, 0, 5)"
   ]
  },
  {
   "cell_type": "code",
   "execution_count": 38,
   "metadata": {},
   "outputs": [
    {
     "data": {
      "image/png": "[encoded data removed]",
      "text/plain": [
       "<Figure size 432x288 with 1 Axes>"
      ]
     },
     "metadata": {},
     "output_type": "display_data"
    },
    {
     "data": {
      "text/plain": [
       "(0.9999999999999996, 0.9999999999999996)"
      ]
     },
     "execution_count": 38,
     "metadata": {},
     "output_type": "execute_result"
    }
   ],
   "source": [
    "QPD(sigma_x, sigma_x, 3, 1, 0, 5)"
   ]
  },
  {
   "cell_type": "code",
   "execution_count": 39,
   "metadata": {},
   "outputs": [
    {
     "data": {
      "image/png": "[encoded data removed]",
      "text/plain": [
       "<Figure size 432x288 with 1 Axes>"
      ]
     },
     "metadata": {},
     "output_type": "display_data"
    },
    {
     "data": {
      "text/plain": [
       "(0.4999999999999998, 2.999999999999999)"
      ]
     },
     "execution_count": 39,
     "metadata": {},
     "output_type": "execute_result"
    }
   ],
   "source": [
    "H=Hadamard(I2)\n",
    "QPD(I2, H, 3, 1, 0, 5)"
   ]
  },
  {
   "cell_type": "code",
   "execution_count": 40,
   "metadata": {},
   "outputs": [
    {
     "data": {
      "image/png": "[encoded data removed]",
      "text/plain": [
       "<Figure size 432x288 with 1 Axes>"
      ]
     },
     "metadata": {},
     "output_type": "display_data"
    },
    {
     "data": {
      "text/plain": [
       "(2.999999999999999, 0.4999999999999998)"
      ]
     },
     "execution_count": 40,
     "metadata": {},
     "output_type": "execute_result"
    }
   ],
   "source": [
    "QPD(H, I2, 3, 1, 0, 5)"
   ]
  },
  {
   "cell_type": "code",
   "execution_count": 41,
   "metadata": {},
   "outputs": [
    {
     "data": {
      "image/png": "[encoded data removed]",
      "text/plain": [
       "<Figure size 432x288 with 1 Axes>"
      ]
     },
     "metadata": {},
     "output_type": "display_data"
    },
    {
     "data": {
      "text/plain": [
       "(0.4999999999999998, 2.999999999999999)"
      ]
     },
     "execution_count": 41,
     "metadata": {},
     "output_type": "execute_result"
    }
   ],
   "source": [
    "QPD(sigma_x, H, 3, 1, 0, 5)"
   ]
  },
  {
   "cell_type": "code",
   "execution_count": 42,
   "metadata": {},
   "outputs": [
    {
     "data": {
      "image/png": "[encoded data removed]",
      "text/plain": [
       "<Figure size 432x288 with 1 Axes>"
      ]
     },
     "metadata": {},
     "output_type": "display_data"
    },
    {
     "data": {
      "text/plain": [
       "(2.999999999999999, 0.4999999999999998)"
      ]
     },
     "execution_count": 42,
     "metadata": {},
     "output_type": "execute_result"
    }
   ],
   "source": [
    "QPD(H, sigma_x, 3, 1, 0, 5)"
   ]
  },
  {
   "cell_type": "code",
   "execution_count": 43,
   "metadata": {},
   "outputs": [
    {
     "data": {
      "image/png": "[encoded data removed]",
      "text/plain": [
       "<Figure size 432x288 with 1 Axes>"
      ]
     },
     "metadata": {},
     "output_type": "display_data"
    },
    {
     "data": {
      "text/plain": [
       "(2.2499999999999987, 2.2499999999999987)"
      ]
     },
     "execution_count": 43,
     "metadata": {},
     "output_type": "execute_result"
    }
   ],
   "source": [
    "QPD(H, H, 3, 1, 0, 5)"
   ]
  },
  {
   "cell_type": "code",
   "execution_count": 44,
   "metadata": {},
   "outputs": [
    {
     "data": {
      "text/plain": [
       "(array([[3.  , 0.  , 0.5 ],\n",
       "        [5.  , 1.  , 0.5 ],\n",
       "        [3.  , 3.  , 2.25]]), array([[3.  , 5.  , 3.  ],\n",
       "        [0.  , 1.  , 3.  ],\n",
       "        [0.5 , 0.5 , 2.25]]))"
      ]
     },
     "execution_count": 44,
     "metadata": {},
     "output_type": "execute_result"
    }
   ],
   "source": [
    "def QPD2(U_A, U_B, alpha, beta, gamma, delta):\n",
    "    sigma_x=PauliX(I2)\n",
    "    U=(np.kron(I2, I2)+1j*np.kron(sigma_x, sigma_x))/np.sqrt(2)\n",
    "    U_dag=np.conj(U.T)\n",
    "\n",
    "    initial=U.dot(Q00)\n",
    "    \n",
    "    PsiS=np.kron(U_A, U_B).dot(initial)\n",
    "    PsiF=U_dag.dot(PsiS)    \n",
    "    cpsif=np.conj(PsiF.T)\n",
    "\n",
    "    def pi(alpha, beta, gamma, delta): return (alpha*np.abs(cpsif.dot(Q00))**2+\n",
    "    gamma*np.abs(cpsif.dot(Q01))**2+delta*np.abs(cpsif.dot(Q10))**2+\n",
    "    beta*np.abs(cpsif.dot(Q11))**2, alpha*np.abs(cpsif.dot(Q00))**2+\n",
    "    delta*np.abs(cpsif.dot(Q01))**2+gamma*np.abs(cpsif.dot(Q10))**2+\n",
    "    beta*np.abs(cpsif.dot(Q11))**2) \n",
    "\n",
    "    return pi(alpha, beta, gamma, delta)\n",
    "\n",
    "moves={1:I2, 2:PauliX(I2), 3:Hadamard(I2), 4:PauliZ(I2)}\n",
    "\n",
    "def payoff_matrix_1(alpha, beta, gamma, delta):\n",
    "    Alice=np.zeros([3, 3])\n",
    "    Bob=np.zeros([3, 3])\n",
    "    for i in range(1, 4):\n",
    "        for j in range(1, 4):\n",
    "            X=QPD2(moves[i], moves[j], alpha, beta, gamma, delta)\n",
    "            Alice[i-1, j-1], Bob[i-1, j-1]=X[0], X[1]\n",
    "    \n",
    "    return(Alice, Bob)\n",
    "\n",
    "payoff_matrix_1(3, 1, 0, 5)"
   ]
  },
  {
   "cell_type": "code",
   "execution_count": 45,
   "metadata": {},
   "outputs": [
    {
     "name": "stdout",
     "output_type": "stream",
     "text": [
      "[[5.   1.   0.5 ]\n",
      " [3.   3.   2.25]]\n",
      "[[0.   1.   3.  ]\n",
      " [0.5  0.5  2.25]]\n",
      "[[1.   0.5 ]\n",
      " [3.   2.25]]\n",
      "[[1.   3.  ]\n",
      " [0.5  2.25]]\n",
      "[[3.   2.25]]\n",
      "[[0.5  2.25]]\n",
      "[[2.25]]\n",
      "[[2.25]]\n",
      "[[2.25]]\n",
      "[[2.25]]\n"
     ]
    },
    {
     "data": {
      "text/plain": [
       "(array([[2.25]]), array([[2.25]]))"
      ]
     },
     "execution_count": 45,
     "metadata": {},
     "output_type": "execute_result"
    }
   ],
   "source": [
    "L=payoff_matrix_1(3, 1, 0, 5)\n",
    "IDSDS(L[0], L[1])"
   ]
  },
  {
   "cell_type": "code",
   "execution_count": 46,
   "metadata": {},
   "outputs": [
    {
     "data": {
      "text/plain": [
       "[('H', 'H')]"
      ]
     },
     "execution_count": 46,
     "metadata": {},
     "output_type": "execute_result"
    }
   ],
   "source": [
    "L1=[]\n",
    "L2=[]\n",
    "\n",
    "for i in range(3):\n",
    "    a=L[0][:, i]\n",
    "    M=max(a)\n",
    "    for j in range(3):\n",
    "        if a[j]==M: L1+=[[j, i], ]\n",
    "\n",
    "for i in range(3):\n",
    "    a=L[1][i, :]\n",
    "    M=max(a)\n",
    "    for j in range(3):\n",
    "        if a[j]==M: L2+=[[i, j], ]\n",
    "\n",
    "N=[i for i in L1 if i in L2]\n",
    "\n",
    "I1={0:'I', 1:'sigma_x', 2:'H'}\n",
    "I2={0:'I', 1:'sigma_x', 2:'H'}\n",
    "\n",
    "Nash=[(I1[i], I2[j]) for [i, j] in N]\n",
    "## The Nash equilibria\n",
    "Nash"
   ]
  },
  {
   "cell_type": "code",
   "execution_count": 49,
   "metadata": {},
   "outputs": [
    {
     "data": {
      "image/png": "[encoded data removed]",
      "text/plain": [
       "<Figure size 432x288 with 1 Axes>"
      ]
     },
     "metadata": {},
     "output_type": "display_data"
    },
    {
     "data": {
      "text/plain": [
       "(0.9999999999999996, 0.9999999999999996)"
      ]
     },
     "execution_count": 49,
     "metadata": {},
     "output_type": "execute_result"
    }
   ],
   "source": [
    "sigma_z=PauliZ(I2)\n",
    "QPD(I2, sigma_z, 3, 1, 0, 5)"
   ]
  },
  {
   "cell_type": "code",
   "execution_count": 50,
   "metadata": {},
   "outputs": [
    {
     "data": {
      "image/png": "[encoded data removed]",
      "text/plain": [
       "<Figure size 432x288 with 1 Axes>"
      ]
     },
     "metadata": {},
     "output_type": "display_data"
    },
    {
     "data": {
      "text/plain": [
       "(0.9999999999999996, 0.9999999999999996)"
      ]
     },
     "execution_count": 50,
     "metadata": {},
     "output_type": "execute_result"
    }
   ],
   "source": [
    "QPD(sigma_z, I2, 3, 1, 0, 5)"
   ]
  },
  {
   "cell_type": "code",
   "execution_count": 51,
   "metadata": {},
   "outputs": [
    {
     "data": {
      "image/png": "[encoded data removed]",
      "text/plain": [
       "<Figure size 432x288 with 1 Axes>"
      ]
     },
     "metadata": {},
     "output_type": "display_data"
    },
    {
     "data": {
      "text/plain": [
       "(0.0, 4.999999999999998)"
      ]
     },
     "execution_count": 51,
     "metadata": {},
     "output_type": "execute_result"
    }
   ],
   "source": [
    "QPD(sigma_x, sigma_z, 3, 1, 0, 5)"
   ]
  },
  {
   "cell_type": "code",
   "execution_count": 52,
   "metadata": {},
   "outputs": [
    {
     "data": {
      "image/png": "[encoded data removed]",
      "text/plain": [
       "<Figure size 432x288 with 1 Axes>"
      ]
     },
     "metadata": {},
     "output_type": "display_data"
    },
    {
     "data": {
      "text/plain": [
       "(4.999999999999998, 0.0)"
      ]
     },
     "execution_count": 52,
     "metadata": {},
     "output_type": "execute_result"
    }
   ],
   "source": [
    "QPD(sigma_z, sigma_x, 3, 1, 0, 5)"
   ]
  },
  {
   "cell_type": "code",
   "execution_count": 53,
   "metadata": {},
   "outputs": [
    {
     "data": {
      "image/png": "[encoded data removed]",
      "text/plain": [
       "<Figure size 432x288 with 1 Axes>"
      ]
     },
     "metadata": {},
     "output_type": "display_data"
    },
    {
     "data": {
      "text/plain": [
       "(3.9999999999999982, 1.4999999999999993)"
      ]
     },
     "execution_count": 53,
     "metadata": {},
     "output_type": "execute_result"
    }
   ],
   "source": [
    "QPD(sigma_z, H, 3, 1, 0, 5)"
   ]
  },
  {
   "cell_type": "code",
   "execution_count": 54,
   "metadata": {},
   "outputs": [
    {
     "data": {
      "image/png": "[encoded data removed]",
      "text/plain": [
       "<Figure size 432x288 with 1 Axes>"
      ]
     },
     "metadata": {},
     "output_type": "display_data"
    },
    {
     "data": {
      "text/plain": [
       "(1.4999999999999993, 3.9999999999999982)"
      ]
     },
     "execution_count": 54,
     "metadata": {},
     "output_type": "execute_result"
    }
   ],
   "source": [
    "QPD(H, sigma_z, 3, 1, 0, 5)"
   ]
  },
  {
   "cell_type": "code",
   "execution_count": 55,
   "metadata": {},
   "outputs": [
    {
     "data": {
      "image/png": "[encoded data removed]",
      "text/plain": [
       "<Figure size 432x288 with 1 Axes>"
      ]
     },
     "metadata": {},
     "output_type": "display_data"
    },
    {
     "data": {
      "text/plain": [
       "(2.9999999999999987, 2.9999999999999987)"
      ]
     },
     "execution_count": 55,
     "metadata": {},
     "output_type": "execute_result"
    }
   ],
   "source": [
    "QPD(sigma_z, sigma_z, 3, 1, 0, 5)"
   ]
  },
  {
   "cell_type": "code",
   "execution_count": 56,
   "metadata": {},
   "outputs": [
    {
     "data": {
      "text/plain": [
       "(array([[3.  , 0.  , 0.5 , 1.  ],\n",
       "        [5.  , 1.  , 0.5 , 0.  ],\n",
       "        [3.  , 3.  , 2.25, 1.5 ],\n",
       "        [1.  , 5.  , 4.  , 3.  ]]), array([[3.  , 5.  , 3.  , 1.  ],\n",
       "        [0.  , 1.  , 3.  , 5.  ],\n",
       "        [0.5 , 0.5 , 2.25, 4.  ],\n",
       "        [1.  , 0.  , 1.5 , 3.  ]]))"
      ]
     },
     "execution_count": 56,
     "metadata": {},
     "output_type": "execute_result"
    }
   ],
   "source": [
    "def payoff_matrix_2(alpha, beta, gamma, delta):\n",
    "    Alice=np.zeros([4, 4])\n",
    "    Bob=np.zeros([4, 4])\n",
    "    for i in range(1, 5):\n",
    "        for j in range(1, 5):\n",
    "            X=QPD2(moves[i], moves[j], alpha, beta, gamma, delta)\n",
    "            Alice[i-1, j-1], Bob[i-1, j-1]=X[0], X[1]\n",
    "    \n",
    "    return(Alice, Bob)\n",
    "\n",
    "payoff_matrix_2(3, 1, 0, 5)"
   ]
  },
  {
   "cell_type": "code",
   "execution_count": 57,
   "metadata": {},
   "outputs": [
    {
     "name": "stdout",
     "output_type": "stream",
     "text": [
      "[[5.   1.   0.5  0.  ]\n",
      " [3.   3.   2.25 1.5 ]\n",
      " [1.   5.   4.   3.  ]]\n",
      "[[0.   1.   3.   5.  ]\n",
      " [0.5  0.5  2.25 4.  ]\n",
      " [1.   0.   1.5  3.  ]]\n",
      "[[1.   0.5  0.  ]\n",
      " [3.   2.25 1.5 ]\n",
      " [5.   4.   3.  ]]\n",
      "[[1.   3.   5.  ]\n",
      " [0.5  2.25 4.  ]\n",
      " [0.   1.5  3.  ]]\n",
      "[[3.   2.25 1.5 ]\n",
      " [5.   4.   3.  ]]\n",
      "[[0.5  2.25 4.  ]\n",
      " [0.   1.5  3.  ]]\n",
      "[[5. 4. 3.]]\n",
      "[[0.  1.5 3. ]]\n",
      "[[4. 3.]]\n",
      "[[1.5 3. ]]\n",
      "[[3.]]\n",
      "[[3.]]\n",
      "[[3.]]\n",
      "[[3.]]\n"
     ]
    },
    {
     "data": {
      "text/plain": [
       "(array([[3.]]), array([[3.]]))"
      ]
     },
     "execution_count": 57,
     "metadata": {},
     "output_type": "execute_result"
    }
   ],
   "source": [
    "L=payoff_matrix_2(3, 1, 0, 5)\n",
    "IDSDS(L[0], L[1])"
   ]
  },
  {
   "cell_type": "code",
   "execution_count": 58,
   "metadata": {},
   "outputs": [
    {
     "data": {
      "text/plain": [
       "[('sigma_z', 'sigma_z')]"
      ]
     },
     "execution_count": 58,
     "metadata": {},
     "output_type": "execute_result"
    }
   ],
   "source": [
    "L1=[]\n",
    "L2=[]\n",
    "\n",
    "for i in range(4):\n",
    "    a=L[0][:, i]\n",
    "    M=max(a)\n",
    "    for j in range(4):\n",
    "        if a[j]==M: L1+=[[j, i], ]\n",
    "\n",
    "for i in range(4):\n",
    "    a=L[1][i, :]\n",
    "    M=max(a)\n",
    "    for j in range(4):\n",
    "        if a[j]==M: L2+=[[i, j], ]\n",
    "\n",
    "N=[i for i in L1 if i in L2]\n",
    "\n",
    "I1={0:'I', 1:'sigma_x', 2:'H', 3: 'sigma_z'}\n",
    "I2={0:'I', 1:'sigma_x', 2:'H', 3: 'sigma_z'}\n",
    "\n",
    "Nash=[(I1[i], I2[j]) for [i, j] in N]\n",
    "## The Nash equilibria\n",
    "Nash"
   ]
  },
  {
   "cell_type": "code",
   "execution_count": null,
   "metadata": {},
   "outputs": [],
   "source": []
  }
 ],
 "metadata": {
  "kernelspec": {
   "display_name": "Python 3",
   "language": "python",
   "name": "python3"
  },
  "language_info": {
   "codemirror_mode": {
    "name": "ipython",
    "version": 3
   },
   "file_extension": ".py",
   "mimetype": "text/x-python",
   "name": "python",
   "nbconvert_exporter": "python",
   "pygments_lexer": "ipython3",
   "version": "3.6.5"
  }
 },
 "nbformat": 4,
 "nbformat_minor": 2
}
